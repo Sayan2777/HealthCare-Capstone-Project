{
 "cells": [
  {
   "cell_type": "markdown",
   "id": "5444ba58",
   "metadata": {},
   "source": [
    "# Problem Statement: Healthcare Analytics & Prediction of Length of Stay"
   ]
  },
  {
   "cell_type": "markdown",
   "id": "501b5bd1",
   "metadata": {},
   "source": [
    "#### _Recent Covid-19 Pandemic has raised alarms over the most overlooked areas of focus and one of them includes: Healthcare Mangement. While healthcare management has various use cases for using data science, patient length of stay is one critical parameter to observe and predict if one wants to improve the efficiency of the healthcare management in a hospital._"
   ]
  },
  {
   "cell_type": "markdown",
   "id": "4e8eddf5",
   "metadata": {},
   "source": [
    "#### _This parameter helps hospitals to identify patients of high LOS risk (patients who will stay longer) at the time of admission. Once identified, patients with high LOS risk can have their treatment plan optimized to miminize LOS and lower the chance of staff/visitor infection. Also, prior knowledge of LOS can aid in logistics such as room and bed allocation planning._"
   ]
  },
  {
   "cell_type": "markdown",
   "id": "e6a512ae",
   "metadata": {},
   "source": [
    "#### _The task is to accurately predict the Length of Stay for each patient on case by case basis so that the Hospitals can use this information for optimal resource allocation and better functioning. The length of stay is divided into 11 different classes ranging from 0-10 days to more than 100 days._"
   ]
  },
  {
   "cell_type": "code",
   "execution_count": 1,
   "id": "5b0d9a94",
   "metadata": {},
   "outputs": [],
   "source": [
    "# Importing the essential libraries to get started\n",
    "\n",
    "import pandas as pd\n",
    "import numpy as np\n",
    "import seaborn as sns\n",
    "import matplotlib.pyplot as plt\n",
    "%matplotlib inline\n",
    "\n",
    "from sklearn.preprocessing import LabelEncoder\n",
    "from sklearn.model_selection import train_test_split\n",
    "import warnings\n",
    "warnings.filterwarnings('ignore')"
   ]
  },
  {
   "cell_type": "markdown",
   "id": "bb28b05d",
   "metadata": {},
   "source": [
    "## Reading the CSV file and importing the data"
   ]
  },
  {
   "cell_type": "code",
   "execution_count": 2,
   "id": "c17011f6",
   "metadata": {},
   "outputs": [],
   "source": [
    "df_train = pd.read_csv('train.csv')"
   ]
  },
  {
   "cell_type": "code",
   "execution_count": 3,
   "id": "ca0a1d2e",
   "metadata": {},
   "outputs": [
    {
     "data": {
      "text/html": [
       "<div>\n",
       "<style scoped>\n",
       "    .dataframe tbody tr th:only-of-type {\n",
       "        vertical-align: middle;\n",
       "    }\n",
       "\n",
       "    .dataframe tbody tr th {\n",
       "        vertical-align: top;\n",
       "    }\n",
       "\n",
       "    .dataframe thead th {\n",
       "        text-align: right;\n",
       "    }\n",
       "</style>\n",
       "<table border=\"1\" class=\"dataframe\">\n",
       "  <thead>\n",
       "    <tr style=\"text-align: right;\">\n",
       "      <th></th>\n",
       "      <th>case_id</th>\n",
       "      <th>Hospital_code</th>\n",
       "      <th>Hospital_type_code</th>\n",
       "      <th>City_Code_Hospital</th>\n",
       "      <th>Hospital_region_code</th>\n",
       "      <th>Available Extra Rooms in Hospital</th>\n",
       "      <th>Department</th>\n",
       "      <th>Ward_Type</th>\n",
       "      <th>Ward_Facility_Code</th>\n",
       "      <th>Bed Grade</th>\n",
       "      <th>patientid</th>\n",
       "      <th>City_Code_Patient</th>\n",
       "      <th>Type of Admission</th>\n",
       "      <th>Severity of Illness</th>\n",
       "      <th>Visitors with Patient</th>\n",
       "      <th>Age</th>\n",
       "      <th>Admission_Deposit</th>\n",
       "      <th>Stay</th>\n",
       "    </tr>\n",
       "  </thead>\n",
       "  <tbody>\n",
       "    <tr>\n",
       "      <th>0</th>\n",
       "      <td>1</td>\n",
       "      <td>8</td>\n",
       "      <td>c</td>\n",
       "      <td>3</td>\n",
       "      <td>Z</td>\n",
       "      <td>3</td>\n",
       "      <td>radiotherapy</td>\n",
       "      <td>R</td>\n",
       "      <td>F</td>\n",
       "      <td>2.0</td>\n",
       "      <td>31397</td>\n",
       "      <td>7.0</td>\n",
       "      <td>Emergency</td>\n",
       "      <td>Extreme</td>\n",
       "      <td>2</td>\n",
       "      <td>51-60</td>\n",
       "      <td>4911.0</td>\n",
       "      <td>0-10</td>\n",
       "    </tr>\n",
       "    <tr>\n",
       "      <th>1</th>\n",
       "      <td>2</td>\n",
       "      <td>2</td>\n",
       "      <td>c</td>\n",
       "      <td>5</td>\n",
       "      <td>Z</td>\n",
       "      <td>2</td>\n",
       "      <td>radiotherapy</td>\n",
       "      <td>S</td>\n",
       "      <td>F</td>\n",
       "      <td>2.0</td>\n",
       "      <td>31397</td>\n",
       "      <td>7.0</td>\n",
       "      <td>Trauma</td>\n",
       "      <td>Extreme</td>\n",
       "      <td>2</td>\n",
       "      <td>51-60</td>\n",
       "      <td>5954.0</td>\n",
       "      <td>41-50</td>\n",
       "    </tr>\n",
       "    <tr>\n",
       "      <th>2</th>\n",
       "      <td>3</td>\n",
       "      <td>10</td>\n",
       "      <td>e</td>\n",
       "      <td>1</td>\n",
       "      <td>X</td>\n",
       "      <td>2</td>\n",
       "      <td>anesthesia</td>\n",
       "      <td>S</td>\n",
       "      <td>E</td>\n",
       "      <td>2.0</td>\n",
       "      <td>31397</td>\n",
       "      <td>7.0</td>\n",
       "      <td>Trauma</td>\n",
       "      <td>Extreme</td>\n",
       "      <td>2</td>\n",
       "      <td>51-60</td>\n",
       "      <td>4745.0</td>\n",
       "      <td>31-40</td>\n",
       "    </tr>\n",
       "    <tr>\n",
       "      <th>3</th>\n",
       "      <td>4</td>\n",
       "      <td>26</td>\n",
       "      <td>b</td>\n",
       "      <td>2</td>\n",
       "      <td>Y</td>\n",
       "      <td>2</td>\n",
       "      <td>radiotherapy</td>\n",
       "      <td>R</td>\n",
       "      <td>D</td>\n",
       "      <td>2.0</td>\n",
       "      <td>31397</td>\n",
       "      <td>7.0</td>\n",
       "      <td>Trauma</td>\n",
       "      <td>Extreme</td>\n",
       "      <td>2</td>\n",
       "      <td>51-60</td>\n",
       "      <td>7272.0</td>\n",
       "      <td>41-50</td>\n",
       "    </tr>\n",
       "    <tr>\n",
       "      <th>4</th>\n",
       "      <td>5</td>\n",
       "      <td>26</td>\n",
       "      <td>b</td>\n",
       "      <td>2</td>\n",
       "      <td>Y</td>\n",
       "      <td>2</td>\n",
       "      <td>radiotherapy</td>\n",
       "      <td>S</td>\n",
       "      <td>D</td>\n",
       "      <td>2.0</td>\n",
       "      <td>31397</td>\n",
       "      <td>7.0</td>\n",
       "      <td>Trauma</td>\n",
       "      <td>Extreme</td>\n",
       "      <td>2</td>\n",
       "      <td>51-60</td>\n",
       "      <td>5558.0</td>\n",
       "      <td>41-50</td>\n",
       "    </tr>\n",
       "  </tbody>\n",
       "</table>\n",
       "</div>"
      ],
      "text/plain": [
       "   case_id  Hospital_code Hospital_type_code  City_Code_Hospital  \\\n",
       "0        1              8                  c                   3   \n",
       "1        2              2                  c                   5   \n",
       "2        3             10                  e                   1   \n",
       "3        4             26                  b                   2   \n",
       "4        5             26                  b                   2   \n",
       "\n",
       "  Hospital_region_code  Available Extra Rooms in Hospital    Department  \\\n",
       "0                    Z                                  3  radiotherapy   \n",
       "1                    Z                                  2  radiotherapy   \n",
       "2                    X                                  2    anesthesia   \n",
       "3                    Y                                  2  radiotherapy   \n",
       "4                    Y                                  2  radiotherapy   \n",
       "\n",
       "  Ward_Type Ward_Facility_Code  Bed Grade  patientid  City_Code_Patient  \\\n",
       "0         R                  F        2.0      31397                7.0   \n",
       "1         S                  F        2.0      31397                7.0   \n",
       "2         S                  E        2.0      31397                7.0   \n",
       "3         R                  D        2.0      31397                7.0   \n",
       "4         S                  D        2.0      31397                7.0   \n",
       "\n",
       "  Type of Admission Severity of Illness  Visitors with Patient    Age  \\\n",
       "0         Emergency             Extreme                      2  51-60   \n",
       "1            Trauma             Extreme                      2  51-60   \n",
       "2            Trauma             Extreme                      2  51-60   \n",
       "3            Trauma             Extreme                      2  51-60   \n",
       "4            Trauma             Extreme                      2  51-60   \n",
       "\n",
       "   Admission_Deposit   Stay  \n",
       "0             4911.0   0-10  \n",
       "1             5954.0  41-50  \n",
       "2             4745.0  31-40  \n",
       "3             7272.0  41-50  \n",
       "4             5558.0  41-50  "
      ]
     },
     "execution_count": 3,
     "metadata": {},
     "output_type": "execute_result"
    }
   ],
   "source": [
    "df_train.head()"
   ]
  },
  {
   "cell_type": "markdown",
   "id": "4e352ba3",
   "metadata": {},
   "source": [
    "## Now we first check for missing variables in the data"
   ]
  },
  {
   "cell_type": "code",
   "execution_count": 4,
   "id": "e779b0da",
   "metadata": {},
   "outputs": [
    {
     "data": {
      "text/plain": [
       "case_id                              0.000000\n",
       "Hospital_code                        0.000000\n",
       "Hospital_type_code                   0.000000\n",
       "City_Code_Hospital                   0.000000\n",
       "Hospital_region_code                 0.000000\n",
       "Available Extra Rooms in Hospital    0.000000\n",
       "Department                           0.000000\n",
       "Ward_Type                            0.000000\n",
       "Ward_Facility_Code                   0.000000\n",
       "Bed Grade                            0.000355\n",
       "patientid                            0.000000\n",
       "City_Code_Patient                    0.014232\n",
       "Type of Admission                    0.000000\n",
       "Severity of Illness                  0.000000\n",
       "Visitors with Patient                0.000000\n",
       "Age                                  0.000000\n",
       "Admission_Deposit                    0.000000\n",
       "Stay                                 0.000000\n",
       "dtype: float64"
      ]
     },
     "execution_count": 4,
     "metadata": {},
     "output_type": "execute_result"
    }
   ],
   "source": [
    "df_train.isnull().sum()/df_train.shape[0]"
   ]
  },
  {
   "cell_type": "code",
   "execution_count": 5,
   "id": "a3133fcc",
   "metadata": {},
   "outputs": [],
   "source": [
    "# As we can check that there are very few rows which are missing the values from columns Bed Grade and City_Code_Patient\n",
    "# Filling the values missing in the Bed Grade column first\n",
    "\n",
    "df_train['Bed Grade'] = df_train.groupby(['Department', 'Hospital_code', 'Ward_Type'])['Bed Grade'].apply(lambda x: x.fillna(x.value_counts().index[0]))"
   ]
  },
  {
   "cell_type": "code",
   "execution_count": 6,
   "id": "e2994cdc",
   "metadata": {},
   "outputs": [
    {
     "data": {
      "text/plain": [
       "8.0"
      ]
     },
     "execution_count": 6,
     "metadata": {},
     "output_type": "execute_result"
    }
   ],
   "source": [
    "# Now to fill the values missing in the the City_Code_Patient columns we use the mode of the column\n",
    "\n",
    "df_train['City_Code_Patient'].value_counts().index[0]"
   ]
  },
  {
   "cell_type": "code",
   "execution_count": 7,
   "id": "efa3b709",
   "metadata": {},
   "outputs": [],
   "source": [
    "null_idx = df_train['City_Code_Patient'].isnull()\n",
    "df_train['City_Code_Patient'][null_idx] = 8"
   ]
  },
  {
   "cell_type": "code",
   "execution_count": 8,
   "id": "f76321cc",
   "metadata": {},
   "outputs": [
    {
     "name": "stdout",
     "output_type": "stream",
     "text": [
      "<class 'pandas.core.frame.DataFrame'>\n",
      "RangeIndex: 318438 entries, 0 to 318437\n",
      "Data columns (total 18 columns):\n",
      " #   Column                             Non-Null Count   Dtype  \n",
      "---  ------                             --------------   -----  \n",
      " 0   case_id                            318438 non-null  int64  \n",
      " 1   Hospital_code                      318438 non-null  int64  \n",
      " 2   Hospital_type_code                 318438 non-null  object \n",
      " 3   City_Code_Hospital                 318438 non-null  int64  \n",
      " 4   Hospital_region_code               318438 non-null  object \n",
      " 5   Available Extra Rooms in Hospital  318438 non-null  int64  \n",
      " 6   Department                         318438 non-null  object \n",
      " 7   Ward_Type                          318438 non-null  object \n",
      " 8   Ward_Facility_Code                 318438 non-null  object \n",
      " 9   Bed Grade                          318438 non-null  float64\n",
      " 10  patientid                          318438 non-null  int64  \n",
      " 11  City_Code_Patient                  318438 non-null  float64\n",
      " 12  Type of Admission                  318438 non-null  object \n",
      " 13  Severity of Illness                318438 non-null  object \n",
      " 14  Visitors with Patient              318438 non-null  int64  \n",
      " 15  Age                                318438 non-null  object \n",
      " 16  Admission_Deposit                  318438 non-null  float64\n",
      " 17  Stay                               318438 non-null  object \n",
      "dtypes: float64(3), int64(6), object(9)\n",
      "memory usage: 43.7+ MB\n"
     ]
    }
   ],
   "source": [
    "# As we can check now there is no null value in any of the columns\n",
    "\n",
    "df_train.info()"
   ]
  },
  {
   "cell_type": "markdown",
   "id": "6dd0391e",
   "metadata": {},
   "source": [
    "## _Exploratory data analysis on the given dataset_"
   ]
  },
  {
   "cell_type": "code",
   "execution_count": 9,
   "id": "fa1c6d3e",
   "metadata": {},
   "outputs": [
    {
     "name": "stdout",
     "output_type": "stream",
     "text": [
      "Number of unique Hospital_code =  32\n",
      "Number of unique Hospital_type_code =  7\n",
      "Number of unique City_Code_Hospital =  11\n",
      "Number of unique Hospital_region_code =  3\n",
      "Number of unique Available Extra Rooms in Hospital =  18\n",
      "Number of unique Ward_Type =  6\n",
      "Number of unique Ward_Facility_Code =  6\n",
      "Number of unique Bed Grade =  4\n",
      "Number of unique patientid =  92017\n",
      "Number of unique City_Code_Patient =  37\n",
      "Number of unique Type of Admission =  3\n",
      "Number of unique Severity of Illness =  3\n",
      "Number of unique Visitors with Patient =  28\n",
      "Number of unique Age =  10\n"
     ]
    }
   ],
   "source": [
    "print('Number of unique Hospital_code = ', df_train.Hospital_code.nunique())\n",
    "print('Number of unique Hospital_type_code = ', df_train.Hospital_type_code.nunique())\n",
    "print('Number of unique City_Code_Hospital = ', df_train.City_Code_Hospital.nunique())\n",
    "print('Number of unique Hospital_region_code = ', df_train.Hospital_region_code.nunique())\n",
    "print('Number of unique Available Extra Rooms in Hospital = ', df_train['Available Extra Rooms in Hospital'].nunique())\n",
    "print('Number of unique Ward_Type = ', df_train['Ward_Type'].nunique())\n",
    "print('Number of unique Ward_Facility_Code = ', df_train['Ward_Facility_Code'].nunique())\n",
    "print('Number of unique Bed Grade = ', df_train['Bed Grade'].nunique())\n",
    "print('Number of unique patientid = ', df_train['patientid'].nunique())\n",
    "print('Number of unique City_Code_Patient = ', df_train['City_Code_Patient'].nunique())\n",
    "print('Number of unique Type of Admission = ', df_train['Type of Admission'].nunique())\n",
    "print('Number of unique Severity of Illness = ', df_train['Severity of Illness'].nunique())\n",
    "print('Number of unique Visitors with Patient = ', df_train['Visitors with Patient'].nunique())\n",
    "print('Number of unique Age = ', df_train['Age'].nunique())"
   ]
  },
  {
   "cell_type": "code",
   "execution_count": 10,
   "id": "136e8f5b",
   "metadata": {},
   "outputs": [
    {
     "data": {
      "text/plain": [
       "case_id                                int64\n",
       "Hospital_code                          int64\n",
       "Hospital_type_code                    object\n",
       "City_Code_Hospital                     int64\n",
       "Hospital_region_code                  object\n",
       "Available Extra Rooms in Hospital      int64\n",
       "Department                            object\n",
       "Ward_Type                             object\n",
       "Ward_Facility_Code                    object\n",
       "Bed Grade                            float64\n",
       "patientid                              int64\n",
       "City_Code_Patient                    float64\n",
       "Type of Admission                     object\n",
       "Severity of Illness                   object\n",
       "Visitors with Patient                  int64\n",
       "Age                                   object\n",
       "Admission_Deposit                    float64\n",
       "Stay                                  object\n",
       "dtype: object"
      ]
     },
     "execution_count": 10,
     "metadata": {},
     "output_type": "execute_result"
    }
   ],
   "source": [
    "df_train.dtypes"
   ]
  },
  {
   "cell_type": "code",
   "execution_count": 11,
   "id": "3b737234",
   "metadata": {},
   "outputs": [
    {
     "data": {
      "text/plain": [
       "<AxesSubplot:ylabel='Hospital_code'>"
      ]
     },
     "execution_count": 11,
     "metadata": {},
     "output_type": "execute_result"
    },
    {
     "data": {
      "image/png": "[encoded data removed]",
      "text/plain": [
       "<Figure size 864x288 with 1 Axes>"
      ]
     },
     "metadata": {
      "needs_background": "light"
     },
     "output_type": "display_data"
    }
   ],
   "source": [
    "plt.figure(figsize = (12,4))\n",
    "sns.barplot(x = df_train['Hospital_code'].value_counts().index, y = df_train['Hospital_code'].value_counts())"
   ]
  },
  {
   "cell_type": "code",
   "execution_count": 12,
   "id": "e28476ec",
   "metadata": {},
   "outputs": [
    {
     "data": {
      "text/plain": [
       "<AxesSubplot:ylabel='Department'>"
      ]
     },
     "execution_count": 12,
     "metadata": {},
     "output_type": "execute_result"
    },
    {
     "data": {
      "image/png": "[encoded data removed]",
      "text/plain": [
       "<Figure size 864x216 with 1 Axes>"
      ]
     },
     "metadata": {
      "needs_background": "light"
     },
     "output_type": "display_data"
    }
   ],
   "source": [
    "# To check which department has the most number of registered cases\n",
    "\n",
    "plt.figure(figsize = (12,3))\n",
    "sns.barplot(x = df_train['Department'].value_counts().index, y = df_train['Department'].value_counts())"
   ]
  },
  {
   "cell_type": "code",
   "execution_count": 13,
   "id": "2d38dcd4",
   "metadata": {},
   "outputs": [
    {
     "data": {
      "text/plain": [
       "<AxesSubplot:ylabel='City_Code_Patient'>"
      ]
     },
     "execution_count": 13,
     "metadata": {},
     "output_type": "execute_result"
    },
    {
     "data": {
      "image/png": "[encoded data removed]",
      "text/plain": [
       "<Figure size 1224x360 with 1 Axes>"
      ]
     },
     "metadata": {
      "needs_background": "light"
     },
     "output_type": "display_data"
    }
   ],
   "source": [
    "# City code for patient\n",
    "\n",
    "plt.figure(figsize = (17,5))\n",
    "sns.barplot(x = df_train['City_Code_Patient'].value_counts().index, y = df_train['City_Code_Patient'].value_counts())"
   ]
  },
  {
   "cell_type": "markdown",
   "id": "6e709be6",
   "metadata": {},
   "source": [
    "#### _We can see that most of the patients from City Code 8 are admitted in the Hospitals with City code 7 or 2 which can also mean that these hospitals are nearby to the these patients living in City Code 8_"
   ]
  },
  {
   "cell_type": "code",
   "execution_count": 14,
   "id": "99cdd73f",
   "metadata": {},
   "outputs": [
    {
     "data": {
      "text/plain": [
       "7     29862\n",
       "2     25409\n",
       "1     18664\n",
       "6     14978\n",
       "9      9791\n",
       "3      9719\n",
       "5      8288\n",
       "4      3973\n",
       "11     3785\n",
       "10     2303\n",
       "13     1771\n",
       "Name: City_Code_Hospital, dtype: int64"
      ]
     },
     "execution_count": 14,
     "metadata": {},
     "output_type": "execute_result"
    }
   ],
   "source": [
    "# As we can check the City Code for Patient 8 has a huge spike so let's try to find some more insights on this\n",
    "# Let's check in which hospitals does Patients with city code 8 is admitted\n",
    "\n",
    "df_train.loc[df_train['City_Code_Patient'] == 8]['City_Code_Hospital'].value_counts()"
   ]
  },
  {
   "cell_type": "markdown",
   "id": "d1e4de51",
   "metadata": {},
   "source": [
    "#### _We can also come to the conclusion that people from the City code 8 are mostly admitted in the gynecology department_"
   ]
  },
  {
   "cell_type": "code",
   "execution_count": 15,
   "id": "e319688e",
   "metadata": {},
   "outputs": [
    {
     "data": {
      "text/plain": [
       "gynecology            99818\n",
       "radiotherapy          13139\n",
       "anesthesia            11271\n",
       "TB & Chest disease     3694\n",
       "surgery                 621\n",
       "Name: Department, dtype: int64"
      ]
     },
     "execution_count": 15,
     "metadata": {},
     "output_type": "execute_result"
    }
   ],
   "source": [
    "df_train.loc[df_train['City_Code_Patient'] == 8]['Department'].value_counts()"
   ]
  },
  {
   "cell_type": "code",
   "execution_count": 16,
   "id": "cd3df3d8",
   "metadata": {},
   "outputs": [
    {
     "data": {
      "text/plain": [
       "count    318438.000000\n",
       "mean       4880.749392\n",
       "std        1086.776254\n",
       "min        1800.000000\n",
       "25%        4186.000000\n",
       "50%        4741.000000\n",
       "75%        5409.000000\n",
       "max       11008.000000\n",
       "Name: Admission_Deposit, dtype: float64"
      ]
     },
     "execution_count": 16,
     "metadata": {},
     "output_type": "execute_result"
    }
   ],
   "source": [
    "# Checking the stats for admission deposit\n",
    "\n",
    "df_train['Admission_Deposit'].describe()"
   ]
  },
  {
   "cell_type": "code",
   "execution_count": 17,
   "id": "bb566a99",
   "metadata": {},
   "outputs": [
    {
     "data": {
      "text/plain": [
       "<matplotlib.legend.Legend at 0x1588c49b9d0>"
      ]
     },
     "execution_count": 17,
     "metadata": {},
     "output_type": "execute_result"
    },
    {
     "data": {
      "image/png": "[encoded data removed]",
      "text/plain": [
       "<Figure size 432x432 with 1 Axes>"
      ]
     },
     "metadata": {},
     "output_type": "display_data"
    }
   ],
   "source": [
    "# Chart for Severity of Illness\n",
    "\n",
    "plt.figure(figsize = (6,6))\n",
    "slices = list(df_train['Severity of Illness'].value_counts().sort_index())\n",
    "percentages = ['Extreme','Minor','Moderate']\n",
    "colors = ['turquoise', 'darkorchid','crimson']\n",
    "plt.pie(slices, labels = percentages, colors = colors, shadow = True, explode = (0,0.05,0.05), autopct = '%1.1f%%')\n",
    "plt.title('The severity of illness', fontsize = 15)\n",
    "plt.legend()"
   ]
  },
  {
   "cell_type": "code",
   "execution_count": 18,
   "id": "ec23eaef",
   "metadata": {},
   "outputs": [
    {
     "data": {
      "text/html": [
       "<div>\n",
       "<style scoped>\n",
       "    .dataframe tbody tr th:only-of-type {\n",
       "        vertical-align: middle;\n",
       "    }\n",
       "\n",
       "    .dataframe tbody tr th {\n",
       "        vertical-align: top;\n",
       "    }\n",
       "\n",
       "    .dataframe thead th {\n",
       "        text-align: right;\n",
       "    }\n",
       "</style>\n",
       "<table border=\"1\" class=\"dataframe\">\n",
       "  <thead>\n",
       "    <tr style=\"text-align: right;\">\n",
       "      <th></th>\n",
       "      <th>max</th>\n",
       "    </tr>\n",
       "    <tr>\n",
       "      <th>Severity of Illness</th>\n",
       "      <th></th>\n",
       "    </tr>\n",
       "  </thead>\n",
       "  <tbody>\n",
       "    <tr>\n",
       "      <th>Extreme</th>\n",
       "      <td>30</td>\n",
       "    </tr>\n",
       "    <tr>\n",
       "      <th>Minor</th>\n",
       "      <td>24</td>\n",
       "    </tr>\n",
       "    <tr>\n",
       "      <th>Moderate</th>\n",
       "      <td>32</td>\n",
       "    </tr>\n",
       "  </tbody>\n",
       "</table>\n",
       "</div>"
      ],
      "text/plain": [
       "                     max\n",
       "Severity of Illness     \n",
       "Extreme               30\n",
       "Minor                 24\n",
       "Moderate              32"
      ]
     },
     "execution_count": 18,
     "metadata": {},
     "output_type": "execute_result"
    }
   ],
   "source": [
    "# Depending on the Severity of illness let's check how many visitors had a patient\n",
    "\n",
    "df_train.groupby('Severity of Illness').aggregate(['max'])['Visitors with Patient']"
   ]
  },
  {
   "cell_type": "code",
   "execution_count": 19,
   "id": "90e8238c",
   "metadata": {},
   "outputs": [
    {
     "data": {
      "text/plain": [
       "<matplotlib.legend.Legend at 0x1588c520b50>"
      ]
     },
     "execution_count": 19,
     "metadata": {},
     "output_type": "execute_result"
    },
    {
     "data": {
      "image/png": "[encoded data removed]",
      "text/plain": [
       "<Figure size 432x432 with 1 Axes>"
      ]
     },
     "metadata": {},
     "output_type": "display_data"
    }
   ],
   "source": [
    "# Chart to see the type of admission\n",
    "\n",
    "plt.figure(figsize = (6,6))\n",
    "slices = list(df_train['Type of Admission'].value_counts().sort_index())\n",
    "percentages = ['Emergency','Trauma','Urgent']\n",
    "colors = ['turquoise', 'darkorchid','crimson']\n",
    "plt.pie(slices, labels = percentages, colors = colors, shadow = True, explode = (0,0.05,0.05), autopct = '%1.1f%%')\n",
    "plt.title('The severity of illness', fontsize = 15)\n",
    "plt.legend(loc = 'upper left')"
   ]
  },
  {
   "cell_type": "markdown",
   "id": "99f463b7",
   "metadata": {},
   "source": [
    "### Now lets try to find some valuable insights on the number of days of stay of a patient"
   ]
  },
  {
   "cell_type": "markdown",
   "id": "137e7a88",
   "metadata": {},
   "source": [
    "####  Initial thoughts on what we could correlate with high LOS from features present in the dataset\n",
    "\n",
    "- Severity of illness\n",
    "- Type of admission\n",
    "- Age\n",
    "- Department\n",
    "- Visitors of Patient"
   ]
  },
  {
   "cell_type": "code",
   "execution_count": 20,
   "id": "e72a2d54",
   "metadata": {},
   "outputs": [
    {
     "data": {
      "text/plain": [
       "<AxesSubplot:ylabel='Stay'>"
      ]
     },
     "execution_count": 20,
     "metadata": {},
     "output_type": "execute_result"
    },
    {
     "data": {
      "image/png": "[encoded data removed]",
      "text/plain": [
       "<Figure size 1080x288 with 1 Axes>"
      ]
     },
     "metadata": {
      "needs_background": "light"
     },
     "output_type": "display_data"
    }
   ],
   "source": [
    "# Number of days of stay of a patient in the hospital\n",
    "\n",
    "plt.figure(figsize = (15,4))\n",
    "sns.barplot(x = df_train['Stay'].value_counts().index, y = df_train['Stay'].value_counts())"
   ]
  },
  {
   "cell_type": "markdown",
   "id": "c8e7fd40",
   "metadata": {},
   "source": [
    "### Length of stay with respect to Severity of illness\n",
    "- Here, we can see that the levels of extreme and minor severities of illnesses do change with a change in length of stay categories\n",
    "- This feature seems to be particularly helpful in the model"
   ]
  },
  {
   "cell_type": "code",
   "execution_count": 21,
   "id": "fc4a123d",
   "metadata": {},
   "outputs": [],
   "source": [
    "s = df_train.groupby(['Severity of Illness', 'Stay']).size()\n",
    "s = (s/s.groupby(level=1).sum()).reset_index()"
   ]
  },
  {
   "cell_type": "code",
   "execution_count": 22,
   "id": "7f22c75c",
   "metadata": {},
   "outputs": [
    {
     "data": {
      "text/plain": [
       "<matplotlib.legend.Legend at 0x1588c7985b0>"
      ]
     },
     "execution_count": 22,
     "metadata": {},
     "output_type": "execute_result"
    },
    {
     "data": {
      "image/png": "[encoded data removed]",
      "text/plain": [
       "<Figure size 1080x360 with 1 Axes>"
      ]
     },
     "metadata": {
      "needs_background": "light"
     },
     "output_type": "display_data"
    }
   ],
   "source": [
    "plt.figure(figsize = (15,5))\n",
    "sns.lineplot(x = 'Stay', y = 0, hue = 'Severity of Illness', data = s)\n",
    "plt.title('Proportion of Length of Stay Category by Severity of Illness', fontsize = 15)\n",
    "plt.legend(loc = 'upper right')"
   ]
  },
  {
   "cell_type": "markdown",
   "id": "f2e4be27",
   "metadata": {},
   "source": [
    "### Length of Stay with respect to the type of admission\n",
    "- We see that the proportion of urgent admissions decreasing over Length of Stay\n",
    "- Overall its not yet clear how effective this feature might be to be added in the model"
   ]
  },
  {
   "cell_type": "code",
   "execution_count": 23,
   "id": "98aad64c",
   "metadata": {},
   "outputs": [],
   "source": [
    "c = df_train.groupby([\"Type of Admission\", \"Stay\"]).size()\n",
    "c = (c/c.groupby(level=1).sum()).reset_index()"
   ]
  },
  {
   "cell_type": "code",
   "execution_count": 24,
   "id": "33af48a3",
   "metadata": {},
   "outputs": [
    {
     "data": {
      "text/plain": [
       "<matplotlib.legend.Legend at 0x1588c81f3d0>"
      ]
     },
     "execution_count": 24,
     "metadata": {},
     "output_type": "execute_result"
    },
    {
     "data": {
      "image/png": "[encoded data removed]",
      "text/plain": [
       "<Figure size 1080x360 with 1 Axes>"
      ]
     },
     "metadata": {
      "needs_background": "light"
     },
     "output_type": "display_data"
    }
   ],
   "source": [
    "plt.figure(figsize = (15,5))\n",
    "sns.lineplot(x = 'Stay', y = 0, hue = 'Type of Admission', data = c)\n",
    "plt.title('Proportion of Length of Stay Category by Type of Admission Category', fontsize = 15)\n",
    "plt.legend(loc = 'upper right')"
   ]
  },
  {
   "cell_type": "markdown",
   "id": "35c49475",
   "metadata": {},
   "source": [
    "### Checking for all the outliers in the data"
   ]
  },
  {
   "cell_type": "markdown",
   "id": "1101d78e",
   "metadata": {},
   "source": [
    "#### _We can see that there are outliers in this column ' Available Extra Rooms in Hospital ' of the data and hence need to <br>remove it_"
   ]
  },
  {
   "cell_type": "code",
   "execution_count": 25,
   "id": "bb5f7cda",
   "metadata": {},
   "outputs": [
    {
     "data": {
      "text/plain": [
       "<AxesSubplot:>"
      ]
     },
     "execution_count": 25,
     "metadata": {},
     "output_type": "execute_result"
    },
    {
     "data": {
      "image/png": "[encoded data removed]",
      "text/plain": [
       "<Figure size 720x504 with 1 Axes>"
      ]
     },
     "metadata": {
      "needs_background": "light"
     },
     "output_type": "display_data"
    }
   ],
   "source": [
    "plt.figure(figsize=(10,7))\n",
    "df_train['Available Extra Rooms in Hospital'].plot(kind = 'box')"
   ]
  },
  {
   "cell_type": "code",
   "execution_count": 26,
   "id": "4e45329f",
   "metadata": {},
   "outputs": [],
   "source": [
    "Q1 = df_train['Available Extra Rooms in Hospital'].quantile(0.25)\n",
    "Q3 = df_train['Available Extra Rooms in Hospital'].quantile(0.75)\n",
    "IQR = Q3 - Q1\n",
    "cutoff = IQR*1.5\n",
    "lower = Q1-cutoff\n",
    "upper = Q3+cutoff"
   ]
  },
  {
   "cell_type": "code",
   "execution_count": 27,
   "id": "84d3ff65",
   "metadata": {},
   "outputs": [],
   "source": [
    "df_train = df_train[(df_train['Available Extra Rooms in Hospital']>=lower) & (df_train['Available Extra Rooms in Hospital']<=upper)]"
   ]
  },
  {
   "cell_type": "code",
   "execution_count": 28,
   "id": "deaa7c07",
   "metadata": {},
   "outputs": [
    {
     "data": {
      "text/plain": [
       "<AxesSubplot:>"
      ]
     },
     "execution_count": 28,
     "metadata": {},
     "output_type": "execute_result"
    },
    {
     "data": {
      "image/png": "[encoded data removed]",
      "text/plain": [
       "<Figure size 720x504 with 1 Axes>"
      ]
     },
     "metadata": {
      "needs_background": "light"
     },
     "output_type": "display_data"
    }
   ],
   "source": [
    "plt.figure(figsize=(10,7))\n",
    "df_train['Available Extra Rooms in Hospital'].plot(kind = 'box')"
   ]
  },
  {
   "cell_type": "markdown",
   "id": "04178155",
   "metadata": {},
   "source": [
    "#### _We can see that there are outliers in this column ' Visitors with Patient ' of the data and hence need to remove it_"
   ]
  },
  {
   "cell_type": "code",
   "execution_count": 29,
   "id": "95c3c31b",
   "metadata": {},
   "outputs": [
    {
     "data": {
      "text/plain": [
       "<AxesSubplot:>"
      ]
     },
     "execution_count": 29,
     "metadata": {},
     "output_type": "execute_result"
    },
    {
     "data": {
      "image/png": "[encoded data removed]",
      "text/plain": [
       "<Figure size 720x504 with 1 Axes>"
      ]
     },
     "metadata": {
      "needs_background": "light"
     },
     "output_type": "display_data"
    }
   ],
   "source": [
    "plt.figure(figsize=(10,7))\n",
    "df_train['Visitors with Patient'].plot(kind = 'box')"
   ]
  },
  {
   "cell_type": "code",
   "execution_count": 30,
   "id": "0b400b38",
   "metadata": {},
   "outputs": [],
   "source": [
    "Q1 = df_train['Visitors with Patient'].quantile(0.25)\n",
    "Q3 = df_train['Visitors with Patient'].quantile(0.75)\n",
    "IQR = Q3 - Q1\n",
    "cutoff = IQR*1.5\n",
    "lower = Q1-cutoff\n",
    "upper = Q3+cutoff"
   ]
  },
  {
   "cell_type": "code",
   "execution_count": 31,
   "id": "bea7a1c7",
   "metadata": {},
   "outputs": [],
   "source": [
    "df_train = df_train[(df_train['Visitors with Patient']>=lower) & (df_train['Visitors with Patient']<=upper)]"
   ]
  },
  {
   "cell_type": "code",
   "execution_count": 32,
   "id": "3ca8e4f3",
   "metadata": {},
   "outputs": [
    {
     "data": {
      "text/plain": [
       "<AxesSubplot:>"
      ]
     },
     "execution_count": 32,
     "metadata": {},
     "output_type": "execute_result"
    },
    {
     "data": {
      "image/png": "[encoded data removed]",
      "text/plain": [
       "<Figure size 720x504 with 1 Axes>"
      ]
     },
     "metadata": {
      "needs_background": "light"
     },
     "output_type": "display_data"
    }
   ],
   "source": [
    "plt.figure(figsize=(10,7))\n",
    "df_train['Visitors with Patient'].plot(kind = 'box')"
   ]
  },
  {
   "cell_type": "markdown",
   "id": "848cf128",
   "metadata": {},
   "source": [
    "## Removed the Outliers !!"
   ]
  },
  {
   "cell_type": "markdown",
   "id": "c0590c92",
   "metadata": {},
   "source": [
    "## Encoding the categorical variables"
   ]
  },
  {
   "cell_type": "code",
   "execution_count": 33,
   "id": "26733cab",
   "metadata": {},
   "outputs": [
    {
     "data": {
      "text/plain": [
       "['Hospital_type_code',\n",
       " 'Hospital_region_code',\n",
       " 'Department',\n",
       " 'Ward_Type',\n",
       " 'Ward_Facility_Code',\n",
       " 'Type of Admission',\n",
       " 'Severity of Illness',\n",
       " 'Age',\n",
       " 'Stay']"
      ]
     },
     "execution_count": 33,
     "metadata": {},
     "output_type": "execute_result"
    }
   ],
   "source": [
    "# Lets check for all the categorical columns\n",
    "\n",
    "cat_cols = df_train.select_dtypes(['object']).columns.tolist()\n",
    "cat_cols"
   ]
  },
  {
   "cell_type": "markdown",
   "id": "3efc437b",
   "metadata": {},
   "source": [
    "### Encoding the Age column manually"
   ]
  },
  {
   "cell_type": "code",
   "execution_count": 34,
   "id": "9e0afc92",
   "metadata": {},
   "outputs": [],
   "source": [
    "values = { '0-10':1, '11-20': 2,'21-30':3,'31-40':4,'41-50':5,'51-60':6,'61-70':7,'71-80':8,'81-90':9,'91-100':10   }\n",
    "df_train['Age'] = df_train['Age'].map(values)"
   ]
  },
  {
   "cell_type": "code",
   "execution_count": 35,
   "id": "5557969f",
   "metadata": {
    "scrolled": true
   },
   "outputs": [],
   "source": [
    "# Creating bins for the Age feature\n",
    "\n",
    "age_bins = { 1:'Young', 2: 'Young',3:'Adult',4:'Adult',5:'Adult',6:'Aged',7:'Aged',8:'Aged',9:'Aged',10:'Aged'   }\n",
    "df_train['Age'] = df_train['Age'].map(age_bins)"
   ]
  },
  {
   "cell_type": "code",
   "execution_count": 36,
   "id": "ef946e28",
   "metadata": {},
   "outputs": [],
   "source": [
    "# We will be using Label Encoder to encode the categorical columns\n",
    "\n",
    "LE = LabelEncoder()"
   ]
  },
  {
   "cell_type": "code",
   "execution_count": 37,
   "id": "08d291bc",
   "metadata": {},
   "outputs": [],
   "source": [
    "cat_cols.remove('Stay')\n",
    "\n",
    "for i in cat_cols:\n",
    "    df_train[i] = LE.fit_transform(df_train[i])"
   ]
  },
  {
   "cell_type": "code",
   "execution_count": 38,
   "id": "f6d1449e",
   "metadata": {},
   "outputs": [
    {
     "data": {
      "text/html": [
       "<div>\n",
       "<style scoped>\n",
       "    .dataframe tbody tr th:only-of-type {\n",
       "        vertical-align: middle;\n",
       "    }\n",
       "\n",
       "    .dataframe tbody tr th {\n",
       "        vertical-align: top;\n",
       "    }\n",
       "\n",
       "    .dataframe thead th {\n",
       "        text-align: right;\n",
       "    }\n",
       "</style>\n",
       "<table border=\"1\" class=\"dataframe\">\n",
       "  <thead>\n",
       "    <tr style=\"text-align: right;\">\n",
       "      <th></th>\n",
       "      <th>case_id</th>\n",
       "      <th>Hospital_code</th>\n",
       "      <th>Hospital_type_code</th>\n",
       "      <th>City_Code_Hospital</th>\n",
       "      <th>Hospital_region_code</th>\n",
       "      <th>Available Extra Rooms in Hospital</th>\n",
       "      <th>Department</th>\n",
       "      <th>Ward_Type</th>\n",
       "      <th>Ward_Facility_Code</th>\n",
       "      <th>Bed Grade</th>\n",
       "      <th>patientid</th>\n",
       "      <th>City_Code_Patient</th>\n",
       "      <th>Type of Admission</th>\n",
       "      <th>Severity of Illness</th>\n",
       "      <th>Visitors with Patient</th>\n",
       "      <th>Age</th>\n",
       "      <th>Admission_Deposit</th>\n",
       "      <th>Stay</th>\n",
       "    </tr>\n",
       "  </thead>\n",
       "  <tbody>\n",
       "    <tr>\n",
       "      <th>0</th>\n",
       "      <td>1</td>\n",
       "      <td>8</td>\n",
       "      <td>2</td>\n",
       "      <td>3</td>\n",
       "      <td>2</td>\n",
       "      <td>3</td>\n",
       "      <td>3</td>\n",
       "      <td>2</td>\n",
       "      <td>5</td>\n",
       "      <td>2.0</td>\n",
       "      <td>31397</td>\n",
       "      <td>7.0</td>\n",
       "      <td>0</td>\n",
       "      <td>0</td>\n",
       "      <td>2</td>\n",
       "      <td>1</td>\n",
       "      <td>4911.0</td>\n",
       "      <td>0-10</td>\n",
       "    </tr>\n",
       "    <tr>\n",
       "      <th>1</th>\n",
       "      <td>2</td>\n",
       "      <td>2</td>\n",
       "      <td>2</td>\n",
       "      <td>5</td>\n",
       "      <td>2</td>\n",
       "      <td>2</td>\n",
       "      <td>3</td>\n",
       "      <td>3</td>\n",
       "      <td>5</td>\n",
       "      <td>2.0</td>\n",
       "      <td>31397</td>\n",
       "      <td>7.0</td>\n",
       "      <td>1</td>\n",
       "      <td>0</td>\n",
       "      <td>2</td>\n",
       "      <td>1</td>\n",
       "      <td>5954.0</td>\n",
       "      <td>41-50</td>\n",
       "    </tr>\n",
       "    <tr>\n",
       "      <th>2</th>\n",
       "      <td>3</td>\n",
       "      <td>10</td>\n",
       "      <td>4</td>\n",
       "      <td>1</td>\n",
       "      <td>0</td>\n",
       "      <td>2</td>\n",
       "      <td>1</td>\n",
       "      <td>3</td>\n",
       "      <td>4</td>\n",
       "      <td>2.0</td>\n",
       "      <td>31397</td>\n",
       "      <td>7.0</td>\n",
       "      <td>1</td>\n",
       "      <td>0</td>\n",
       "      <td>2</td>\n",
       "      <td>1</td>\n",
       "      <td>4745.0</td>\n",
       "      <td>31-40</td>\n",
       "    </tr>\n",
       "    <tr>\n",
       "      <th>3</th>\n",
       "      <td>4</td>\n",
       "      <td>26</td>\n",
       "      <td>1</td>\n",
       "      <td>2</td>\n",
       "      <td>1</td>\n",
       "      <td>2</td>\n",
       "      <td>3</td>\n",
       "      <td>2</td>\n",
       "      <td>3</td>\n",
       "      <td>2.0</td>\n",
       "      <td>31397</td>\n",
       "      <td>7.0</td>\n",
       "      <td>1</td>\n",
       "      <td>0</td>\n",
       "      <td>2</td>\n",
       "      <td>1</td>\n",
       "      <td>7272.0</td>\n",
       "      <td>41-50</td>\n",
       "    </tr>\n",
       "    <tr>\n",
       "      <th>4</th>\n",
       "      <td>5</td>\n",
       "      <td>26</td>\n",
       "      <td>1</td>\n",
       "      <td>2</td>\n",
       "      <td>1</td>\n",
       "      <td>2</td>\n",
       "      <td>3</td>\n",
       "      <td>3</td>\n",
       "      <td>3</td>\n",
       "      <td>2.0</td>\n",
       "      <td>31397</td>\n",
       "      <td>7.0</td>\n",
       "      <td>1</td>\n",
       "      <td>0</td>\n",
       "      <td>2</td>\n",
       "      <td>1</td>\n",
       "      <td>5558.0</td>\n",
       "      <td>41-50</td>\n",
       "    </tr>\n",
       "  </tbody>\n",
       "</table>\n",
       "</div>"
      ],
      "text/plain": [
       "   case_id  Hospital_code  Hospital_type_code  City_Code_Hospital  \\\n",
       "0        1              8                   2                   3   \n",
       "1        2              2                   2                   5   \n",
       "2        3             10                   4                   1   \n",
       "3        4             26                   1                   2   \n",
       "4        5             26                   1                   2   \n",
       "\n",
       "   Hospital_region_code  Available Extra Rooms in Hospital  Department  \\\n",
       "0                     2                                  3           3   \n",
       "1                     2                                  2           3   \n",
       "2                     0                                  2           1   \n",
       "3                     1                                  2           3   \n",
       "4                     1                                  2           3   \n",
       "\n",
       "   Ward_Type  Ward_Facility_Code  Bed Grade  patientid  City_Code_Patient  \\\n",
       "0          2                   5        2.0      31397                7.0   \n",
       "1          3                   5        2.0      31397                7.0   \n",
       "2          3                   4        2.0      31397                7.0   \n",
       "3          2                   3        2.0      31397                7.0   \n",
       "4          3                   3        2.0      31397                7.0   \n",
       "\n",
       "   Type of Admission  Severity of Illness  Visitors with Patient  Age  \\\n",
       "0                  0                    0                      2    1   \n",
       "1                  1                    0                      2    1   \n",
       "2                  1                    0                      2    1   \n",
       "3                  1                    0                      2    1   \n",
       "4                  1                    0                      2    1   \n",
       "\n",
       "   Admission_Deposit   Stay  \n",
       "0             4911.0   0-10  \n",
       "1             5954.0  41-50  \n",
       "2             4745.0  31-40  \n",
       "3             7272.0  41-50  \n",
       "4             5558.0  41-50  "
      ]
     },
     "execution_count": 38,
     "metadata": {},
     "output_type": "execute_result"
    }
   ],
   "source": [
    "df_train.head()"
   ]
  },
  {
   "cell_type": "markdown",
   "id": "3f5dd078",
   "metadata": {},
   "source": [
    "# Splitting the data for training the model"
   ]
  },
  {
   "cell_type": "code",
   "execution_count": 39,
   "id": "67bd5bcf",
   "metadata": {},
   "outputs": [],
   "source": [
    "X = df_train.drop(['Stay', 'case_id', 'patientid'], axis = 1)\n",
    "Y = LE.fit_transform(df_train['Stay'])\n",
    "\n",
    "X_train, X_test, Y_train, Y_test = train_test_split(X,Y, test_size = 0.30, random_state = 1)"
   ]
  },
  {
   "cell_type": "code",
   "execution_count": 45,
   "id": "eed6e8c0",
   "metadata": {},
   "outputs": [],
   "source": [
    "from sklearn.ensemble import AdaBoostClassifier,GradientBoostingClassifier\n",
    "from sklearn import metrics as mt\n",
    "from sklearn.model_selection import KFold, cross_val_score"
   ]
  },
  {
   "cell_type": "markdown",
   "id": "f4cc068a",
   "metadata": {},
   "source": [
    "# ADA Boost"
   ]
  },
  {
   "cell_type": "code",
   "execution_count": 47,
   "id": "5b210030",
   "metadata": {},
   "outputs": [
    {
     "data": {
      "text/plain": [
       "AdaBoostClassifier()"
      ]
     },
     "execution_count": 47,
     "metadata": {},
     "output_type": "execute_result"
    }
   ],
   "source": [
    "AB = AdaBoostClassifier()\n",
    "AB.fit(X_train, Y_train)"
   ]
  },
  {
   "cell_type": "code",
   "execution_count": 49,
   "id": "9889abc6",
   "metadata": {},
   "outputs": [],
   "source": [
    "AB_pred = AB.predict(X_train)"
   ]
  },
  {
   "cell_type": "code",
   "execution_count": 55,
   "id": "b30de96e",
   "metadata": {},
   "outputs": [
    {
     "data": {
      "text/plain": [
       "0.3734574070028493"
      ]
     },
     "execution_count": 55,
     "metadata": {},
     "output_type": "execute_result"
    }
   ],
   "source": [
    "AB_acc_test = mt.accuracy_score(Y_train,AB_pred)\n",
    "AB_acc_test"
   ]
  },
  {
   "cell_type": "code",
   "execution_count": 50,
   "id": "53699c9e",
   "metadata": {},
   "outputs": [
    {
     "name": "stdout",
     "output_type": "stream",
     "text": [
      "              precision    recall  f1-score   support\n",
      "\n",
      "           0       0.22      0.09      0.13     16544\n",
      "           1       0.38      0.40      0.39     54550\n",
      "           2       0.41      0.65      0.50     60614\n",
      "           3       0.30      0.20      0.24     37482\n",
      "           4       0.03      0.00      0.00      7968\n",
      "           5       0.37      0.45      0.40     23213\n",
      "           6       0.00      0.00      0.00      1785\n",
      "           7       0.00      0.00      0.00      6231\n",
      "           8       0.09      0.03      0.04      2674\n",
      "           9       0.00      0.00      0.00      1574\n",
      "          10       0.15      0.03      0.05      2506\n",
      "\n",
      "    accuracy                           0.37    215141\n",
      "   macro avg       0.18      0.17      0.16    215141\n",
      "weighted avg       0.32      0.37      0.34    215141\n",
      "\n"
     ]
    }
   ],
   "source": [
    "print(mt.classification_report(Y_train, AB_pred))"
   ]
  },
  {
   "cell_type": "code",
   "execution_count": 51,
   "id": "0a3186c0",
   "metadata": {},
   "outputs": [],
   "source": [
    "AB_pred_test = AB.predict(X_test)"
   ]
  },
  {
   "cell_type": "code",
   "execution_count": 52,
   "id": "6ed958d5",
   "metadata": {},
   "outputs": [
    {
     "data": {
      "text/plain": [
       "0.36924645351611646"
      ]
     },
     "execution_count": 52,
     "metadata": {},
     "output_type": "execute_result"
    }
   ],
   "source": [
    "AB_acc_test = mt.accuracy_score(Y_test,AB_pred_test)\n",
    "AB_acc_test"
   ]
  },
  {
   "cell_type": "markdown",
   "id": "a513ce80",
   "metadata": {},
   "source": [
    "# Gradient Boost"
   ]
  },
  {
   "cell_type": "code",
   "execution_count": 56,
   "id": "977978e1",
   "metadata": {},
   "outputs": [
    {
     "data": {
      "text/plain": [
       "GradientBoostingClassifier()"
      ]
     },
     "execution_count": 56,
     "metadata": {},
     "output_type": "execute_result"
    }
   ],
   "source": [
    "GB = GradientBoostingClassifier()\n",
    "GB.fit(X_train,Y_train)"
   ]
  },
  {
   "cell_type": "code",
   "execution_count": 58,
   "id": "c4dd595a",
   "metadata": {},
   "outputs": [],
   "source": [
    "GB_pred = GB.predict(X_train)"
   ]
  },
  {
   "cell_type": "code",
   "execution_count": 59,
   "id": "2627a278",
   "metadata": {},
   "outputs": [
    {
     "name": "stdout",
     "output_type": "stream",
     "text": [
      "              precision    recall  f1-score   support\n",
      "\n",
      "           0       0.42      0.13      0.20     16544\n",
      "           1       0.42      0.51      0.46     54550\n",
      "           2       0.43      0.66      0.52     60614\n",
      "           3       0.42      0.19      0.26     37482\n",
      "           4       0.78      0.00      0.01      7968\n",
      "           5       0.40      0.53      0.46     23213\n",
      "           6       0.85      0.02      0.04      1785\n",
      "           7       0.82      0.00      0.01      6231\n",
      "           8       0.37      0.23      0.29      2674\n",
      "           9       0.94      0.01      0.02      1574\n",
      "          10       0.45      0.10      0.16      2506\n",
      "\n",
      "    accuracy                           0.42    215141\n",
      "   macro avg       0.57      0.22      0.22    215141\n",
      "weighted avg       0.45      0.42      0.38    215141\n",
      "\n"
     ]
    }
   ],
   "source": [
    "print(mt.classification_report(Y_train, GB_pred))"
   ]
  },
  {
   "cell_type": "code",
   "execution_count": 60,
   "id": "3506bc7e",
   "metadata": {},
   "outputs": [
    {
     "data": {
      "text/plain": [
       "0.4201570133075518"
      ]
     },
     "execution_count": 60,
     "metadata": {},
     "output_type": "execute_result"
    }
   ],
   "source": [
    "GB_acc_test = mt.accuracy_score(Y_train,GB_pred)\n",
    "GB_acc_test"
   ]
  },
  {
   "cell_type": "code",
   "execution_count": 61,
   "id": "770fa7f4",
   "metadata": {},
   "outputs": [],
   "source": [
    "GB_pred_test = GB.predict(X_test)"
   ]
  },
  {
   "cell_type": "code",
   "execution_count": 62,
   "id": "b164554b",
   "metadata": {},
   "outputs": [
    {
     "data": {
      "text/plain": [
       "0.4131165676109496"
      ]
     },
     "execution_count": 62,
     "metadata": {},
     "output_type": "execute_result"
    }
   ],
   "source": [
    "GB_acc_test = mt.accuracy_score(Y_test,GB_pred_test)\n",
    "GB_acc_test"
   ]
  },
  {
   "cell_type": "markdown",
   "id": "cdc6ef79",
   "metadata": {},
   "source": [
    "# Support Vector machines"
   ]
  },
  {
   "cell_type": "code",
   "execution_count": 41,
   "id": "634a3776",
   "metadata": {},
   "outputs": [],
   "source": [
    "from sklearn.svm import SVC"
   ]
  },
  {
   "cell_type": "code",
   "execution_count": null,
   "id": "ab6a6456",
   "metadata": {},
   "outputs": [],
   "source": [
    "svm = SVC(random_state = 1)\n",
    "svm.fit(X_train, Y_train)"
   ]
  },
  {
   "cell_type": "code",
   "execution_count": null,
   "id": "b08ef101",
   "metadata": {},
   "outputs": [],
   "source": []
  },
  {
   "cell_type": "code",
   "execution_count": null,
   "id": "6f92a091",
   "metadata": {},
   "outputs": [],
   "source": []
  },
  {
   "cell_type": "code",
   "execution_count": null,
   "id": "45072731",
   "metadata": {},
   "outputs": [],
   "source": []
  }
 ],
 "metadata": {
  "kernelspec": {
   "display_name": "Python 3",
   "language": "python",
   "name": "python3"
  },
  "language_info": {
   "codemirror_mode": {
    "name": "ipython",
    "version": 3
   },
   "file_extension": ".py",
   "mimetype": "text/x-python",
   "name": "python",
   "nbconvert_exporter": "python",
   "pygments_lexer": "ipython3",
   "version": "3.8.8"
  }
 },
 "nbformat": 4,
 "nbformat_minor": 5
}
